{
  "nbformat": 4,
  "nbformat_minor": 0,
  "metadata": {
    "colab": {
      "provenance": [],
      "authorship_tag": "ABX9TyONVnX2GgjYM3sTQVTLRPJ+",
      "include_colab_link": true
    },
    "kernelspec": {
      "name": "python3",
      "display_name": "Python 3"
    },
    "language_info": {
      "name": "python"
    }
  },
  "cells": [
    {
      "cell_type": "markdown",
      "metadata": {
        "id": "view-in-github",
        "colab_type": "text"
      },
      "source": [
        "<a href=\"https://colab.research.google.com/github/jarpit2003/Hangman-Game/blob/main/Hangman_game.ipynb\" target=\"_parent\"><img src=\"https://colab.research.google.com/assets/colab-badge.svg\" alt=\"Open In Colab\"/></a>"
      ]
    },
    {
      "cell_type": "code",
      "execution_count": null,
      "metadata": {
        "colab": {
          "base_uri": "https://localhost:8080/"
        },
        "id": "_6AHI-vQC7k7",
        "outputId": "68a051d2-4443-4c8b-e67c-a4afec8878d5"
      },
      "outputs": [
        {
          "output_type": "stream",
          "name": "stdout",
          "text": [
            "Let's play hangman!\n",
            "\n",
            "-----\n",
            "|   |\n",
            "O   |\n",
            "/|\\\\ |\n",
            "/ \\\\ |\n",
            "    |\n",
            "--------\n",
            "\n",
            "_ _ _ _ \n",
            "Tries left: 6\n"
          ]
        }
      ],
      "source": [
        "import random\n",
        "\n",
        "def get_random_word(filename):\n",
        "    with open(filename, 'r') as file:\n",
        "        words = file.readlines()\n",
        "    words = [word.strip() for word in words]\n",
        "    return random.choice(words)\n",
        "\n",
        "def get_hangman_stages(filename):\n",
        "    with open(filename, 'r') as file:\n",
        "        stages = file.read().split('###')\n",
        "    return stages\n",
        "\n",
        "def display_hangman(stages, tries):\n",
        "    return stages[tries]\n",
        "\n",
        "def play_game(word_file, stages_file):\n",
        "    word = get_random_word(word_file)\n",
        "    stages = get_hangman_stages(stages_file)\n",
        "    word_letters = set(word)\n",
        "    guessed_letters = set()\n",
        "    correct_letters = set()\n",
        "    tries = 6\n",
        "\n",
        "    print(\"Let's play hangman!\")\n",
        "    print(display_hangman(stages, tries))\n",
        "    print(\"_ \" * len(word))\n",
        "\n",
        "    while tries > 0:\n",
        "        print(f\"Tries left: {tries}\")\n",
        "        guess = input(\"Guess a letter: \").lower()\n",
        "\n",
        "        if len(guess) != 1 or not guess.isalpha():\n",
        "            print(\"Invalid input. Please guess a single letter.\")\n",
        "            continue\n",
        "\n",
        "        if guess in guessed_letters:\n",
        "            print(\"You have already guessed that letter.\")\n",
        "            continue\n",
        "\n",
        "        guessed_letters.add(guess)\n",
        "\n",
        "        if guess in word_letters:\n",
        "            correct_letters.add(guess)\n",
        "            if correct_letters == word_letters:\n",
        "                print(f\"Congratulations! You have guessed the word '{word}' correctly.\")\n",
        "                return\n",
        "        else:\n",
        "            tries -= 1\n",
        "\n",
        "        print(display_hangman(stages, tries))\n",
        "        print(\" \".join([letter if letter in correct_letters else \"_\" for letter in word]))\n",
        "\n",
        "    print(f\"Game over! The word was '{word}'.\")\n",
        "\n",
        "if __name__ == \"__main__\":\n",
        "    word_file = 'words.txt'  # Replace with your actual word file path\n",
        "    stages_file = 'stages.txt'  # Replace with your actual stages file path\n",
        "    play_game(word_file, stages_file)\n"
      ]
    }
  ]
}